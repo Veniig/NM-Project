{
 "cells": [
  {
   "cell_type": "code",
   "execution_count": 1,
   "id": "3f8bf5e6",
   "metadata": {
    "_cell_guid": "b1076dfc-b9ad-4769-8c92-a6c4dae69d19",
    "_uuid": "8f2839f25d086af736a60e9eeb907d3b93b6e0e5",
    "execution": {
     "iopub.execute_input": "2024-01-03T17:15:58.646997Z",
     "iopub.status.busy": "2024-01-03T17:15:58.646548Z",
     "iopub.status.idle": "2024-01-03T17:16:01.032723Z",
     "shell.execute_reply": "2024-01-03T17:16:01.031422Z"
    },
    "papermill": {
     "duration": 2.395888,
     "end_time": "2024-01-03T17:16:01.035677",
     "exception": false,
     "start_time": "2024-01-03T17:15:58.639789",
     "status": "completed"
    },
    "tags": []
   },
   "outputs": [],
   "source": [
    "import pandas as pd\n",
    "import numpy as np\n",
    "from sklearn import preprocessing \n",
    "from sklearn.model_selection import train_test_split\n",
    "from sklearn.feature_extraction.text import TfidfVectorizer\n",
    "from sklearn.pipeline import Pipeline\n",
    "from sklearn.metrics import classification_report\n",
    "from sklearn.linear_model import LogisticRegression\n",
    "\n",
    "import nltk\n",
    "try:\n",
    "    nltk.data.find('tokenizers/punkt')\n",
    "except:\n",
    "    nltk.download('punkt')"
   ]
  },
  {
   "cell_type": "code",
   "execution_count": 2,
   "id": "85a410ea",
   "metadata": {
    "execution": {
     "iopub.execute_input": "2024-01-03T17:16:01.046776Z",
     "iopub.status.busy": "2024-01-03T17:16:01.046168Z",
     "iopub.status.idle": "2024-01-03T17:16:01.189097Z",
     "shell.execute_reply": "2024-01-03T17:16:01.187949Z"
    },
    "papermill": {
     "duration": 0.151718,
     "end_time": "2024-01-03T17:16:01.192030",
     "exception": false,
     "start_time": "2024-01-03T17:16:01.040312",
     "status": "completed"
    },
    "tags": []
   },
   "outputs": [
    {
     "data": {
      "text/html": [
       "<div>\n",
       "<style scoped>\n",
       "    .dataframe tbody tr th:only-of-type {\n",
       "        vertical-align: middle;\n",
       "    }\n",
       "\n",
       "    .dataframe tbody tr th {\n",
       "        vertical-align: top;\n",
       "    }\n",
       "\n",
       "    .dataframe thead th {\n",
       "        text-align: right;\n",
       "    }\n",
       "</style>\n",
       "<table border=\"1\" class=\"dataframe\">\n",
       "  <thead>\n",
       "    <tr style=\"text-align: right;\">\n",
       "      <th></th>\n",
       "      <th>flags</th>\n",
       "      <th>utterance</th>\n",
       "      <th>category</th>\n",
       "      <th>intent</th>\n",
       "    </tr>\n",
       "  </thead>\n",
       "  <tbody>\n",
       "    <tr>\n",
       "      <th>0</th>\n",
       "      <td>BILC</td>\n",
       "      <td>I don't have an online account, what do I have...</td>\n",
       "      <td>ACCOUNT</td>\n",
       "      <td>create_account</td>\n",
       "    </tr>\n",
       "    <tr>\n",
       "      <th>1</th>\n",
       "      <td>BILQZ</td>\n",
       "      <td>can you tell me if i can regisger two accounts...</td>\n",
       "      <td>ACCOUNT</td>\n",
       "      <td>create_account</td>\n",
       "    </tr>\n",
       "    <tr>\n",
       "      <th>2</th>\n",
       "      <td>BPLC</td>\n",
       "      <td>I have no online account, open one, please</td>\n",
       "      <td>ACCOUNT</td>\n",
       "      <td>create_account</td>\n",
       "    </tr>\n",
       "    <tr>\n",
       "      <th>3</th>\n",
       "      <td>BIPLD</td>\n",
       "      <td>could you ask an agent how to open an account,...</td>\n",
       "      <td>ACCOUNT</td>\n",
       "      <td>create_account</td>\n",
       "    </tr>\n",
       "    <tr>\n",
       "      <th>4</th>\n",
       "      <td>BLQC</td>\n",
       "      <td>i want an online account, create one</td>\n",
       "      <td>ACCOUNT</td>\n",
       "      <td>create_account</td>\n",
       "    </tr>\n",
       "  </tbody>\n",
       "</table>\n",
       "</div>"
      ],
      "text/plain": [
       "   flags                                          utterance category  \\\n",
       "0   BILC  I don't have an online account, what do I have...  ACCOUNT   \n",
       "1  BILQZ  can you tell me if i can regisger two accounts...  ACCOUNT   \n",
       "2   BPLC         I have no online account, open one, please  ACCOUNT   \n",
       "3  BIPLD  could you ask an agent how to open an account,...  ACCOUNT   \n",
       "4   BLQC               i want an online account, create one  ACCOUNT   \n",
       "\n",
       "           intent  \n",
       "0  create_account  \n",
       "1  create_account  \n",
       "2  create_account  \n",
       "3  create_account  \n",
       "4  create_account  "
      ]
     },
     "execution_count": 2,
     "metadata": {},
     "output_type": "execute_result"
    }
   ],
   "source": [
    "df = pd.read_csv(\"/kaggle/input/training-dataset-for-chatbotsvirtual-assistants/20000-Utterances-Training-dataset-for-chatbots-virtual-assistant-Bitext-sample/20000-Utterances-Training-dataset-for-chatbots-virtual-assistant-Bitext-sample/20000-Utterances-Training-dataset-for-chatbots-virtual-assistant-Bitext-sample.csv\")\n",
    "df.head()"
   ]
  },
  {
   "cell_type": "code",
   "execution_count": 3,
   "id": "78810172",
   "metadata": {
    "execution": {
     "iopub.execute_input": "2024-01-03T17:16:01.203742Z",
     "iopub.status.busy": "2024-01-03T17:16:01.203311Z",
     "iopub.status.idle": "2024-01-03T17:16:01.222450Z",
     "shell.execute_reply": "2024-01-03T17:16:01.220845Z"
    },
    "papermill": {
     "duration": 0.028858,
     "end_time": "2024-01-03T17:16:01.225642",
     "exception": false,
     "start_time": "2024-01-03T17:16:01.196784",
     "status": "completed"
    },
    "tags": []
   },
   "outputs": [
    {
     "data": {
      "text/plain": [
       "27"
      ]
     },
     "execution_count": 3,
     "metadata": {},
     "output_type": "execute_result"
    }
   ],
   "source": [
    "len(df.intent.value_counts())"
   ]
  },
  {
   "cell_type": "markdown",
   "id": "bb375677",
   "metadata": {
    "papermill": {
     "duration": 0.004721,
     "end_time": "2024-01-03T17:16:01.235947",
     "exception": false,
     "start_time": "2024-01-03T17:16:01.231226",
     "status": "completed"
    },
    "tags": []
   },
   "source": [
    "# Without preprocessing"
   ]
  },
  {
   "cell_type": "code",
   "execution_count": 4,
   "id": "5e9186e4",
   "metadata": {
    "execution": {
     "iopub.execute_input": "2024-01-03T17:16:01.248237Z",
     "iopub.status.busy": "2024-01-03T17:16:01.247493Z",
     "iopub.status.idle": "2024-01-03T17:16:01.270253Z",
     "shell.execute_reply": "2024-01-03T17:16:01.269061Z"
    },
    "papermill": {
     "duration": 0.032455,
     "end_time": "2024-01-03T17:16:01.273273",
     "exception": false,
     "start_time": "2024-01-03T17:16:01.240818",
     "status": "completed"
    },
    "tags": []
   },
   "outputs": [
    {
     "data": {
      "text/html": [
       "<div>\n",
       "<style scoped>\n",
       "    .dataframe tbody tr th:only-of-type {\n",
       "        vertical-align: middle;\n",
       "    }\n",
       "\n",
       "    .dataframe tbody tr th {\n",
       "        vertical-align: top;\n",
       "    }\n",
       "\n",
       "    .dataframe thead th {\n",
       "        text-align: right;\n",
       "    }\n",
       "</style>\n",
       "<table border=\"1\" class=\"dataframe\">\n",
       "  <thead>\n",
       "    <tr style=\"text-align: right;\">\n",
       "      <th></th>\n",
       "      <th>flags</th>\n",
       "      <th>utterance</th>\n",
       "      <th>category</th>\n",
       "      <th>intent</th>\n",
       "      <th>label_num</th>\n",
       "    </tr>\n",
       "  </thead>\n",
       "  <tbody>\n",
       "    <tr>\n",
       "      <th>0</th>\n",
       "      <td>BILC</td>\n",
       "      <td>I don't have an online account, what do I have...</td>\n",
       "      <td>ACCOUNT</td>\n",
       "      <td>create_account</td>\n",
       "      <td>10</td>\n",
       "    </tr>\n",
       "    <tr>\n",
       "      <th>1</th>\n",
       "      <td>BILQZ</td>\n",
       "      <td>can you tell me if i can regisger two accounts...</td>\n",
       "      <td>ACCOUNT</td>\n",
       "      <td>create_account</td>\n",
       "      <td>10</td>\n",
       "    </tr>\n",
       "    <tr>\n",
       "      <th>2</th>\n",
       "      <td>BPLC</td>\n",
       "      <td>I have no online account, open one, please</td>\n",
       "      <td>ACCOUNT</td>\n",
       "      <td>create_account</td>\n",
       "      <td>10</td>\n",
       "    </tr>\n",
       "    <tr>\n",
       "      <th>3</th>\n",
       "      <td>BIPLD</td>\n",
       "      <td>could you ask an agent how to open an account,...</td>\n",
       "      <td>ACCOUNT</td>\n",
       "      <td>create_account</td>\n",
       "      <td>10</td>\n",
       "    </tr>\n",
       "    <tr>\n",
       "      <th>4</th>\n",
       "      <td>BLQC</td>\n",
       "      <td>i want an online account, create one</td>\n",
       "      <td>ACCOUNT</td>\n",
       "      <td>create_account</td>\n",
       "      <td>10</td>\n",
       "    </tr>\n",
       "  </tbody>\n",
       "</table>\n",
       "</div>"
      ],
      "text/plain": [
       "   flags                                          utterance category  \\\n",
       "0   BILC  I don't have an online account, what do I have...  ACCOUNT   \n",
       "1  BILQZ  can you tell me if i can regisger two accounts...  ACCOUNT   \n",
       "2   BPLC         I have no online account, open one, please  ACCOUNT   \n",
       "3  BIPLD  could you ask an agent how to open an account,...  ACCOUNT   \n",
       "4   BLQC               i want an online account, create one  ACCOUNT   \n",
       "\n",
       "           intent  label_num  \n",
       "0  create_account         10  \n",
       "1  create_account         10  \n",
       "2  create_account         10  \n",
       "3  create_account         10  \n",
       "4  create_account         10  "
      ]
     },
     "execution_count": 4,
     "metadata": {},
     "output_type": "execute_result"
    }
   ],
   "source": [
    "label_intent = preprocessing.LabelEncoder()\n",
    "df['label_num'] = label_intent.fit_transform(df.intent)\n",
    "df.head()"
   ]
  },
  {
   "cell_type": "code",
   "execution_count": 5,
   "id": "c2941cd6",
   "metadata": {
    "execution": {
     "iopub.execute_input": "2024-01-03T17:16:01.285786Z",
     "iopub.status.busy": "2024-01-03T17:16:01.285323Z",
     "iopub.status.idle": "2024-01-03T17:16:01.293327Z",
     "shell.execute_reply": "2024-01-03T17:16:01.292089Z"
    },
    "papermill": {
     "duration": 0.017377,
     "end_time": "2024-01-03T17:16:01.295844",
     "exception": false,
     "start_time": "2024-01-03T17:16:01.278467",
     "status": "completed"
    },
    "tags": []
   },
   "outputs": [
    {
     "data": {
      "text/plain": [
       "{'classes_': array(['cancel_order', 'change_order', 'change_shipping_address',\n",
       "        'check_cancellation_fee', 'check_invoices',\n",
       "        'check_payment_methods', 'check_refund_policy', 'complaint',\n",
       "        'contact_customer_service', 'contact_human_agent',\n",
       "        'create_account', 'delete_account', 'delivery_options',\n",
       "        'delivery_period', 'edit_account', 'get_invoice', 'get_refund',\n",
       "        'newsletter_subscription', 'payment_issue', 'place_order',\n",
       "        'recover_password', 'registration_problems', 'review',\n",
       "        'set_up_shipping_address', 'switch_account', 'track_order',\n",
       "        'track_refund'], dtype=object)}"
      ]
     },
     "execution_count": 5,
     "metadata": {},
     "output_type": "execute_result"
    }
   ],
   "source": [
    "label_intent.__dict__"
   ]
  },
  {
   "cell_type": "code",
   "execution_count": 6,
   "id": "e5de2b72",
   "metadata": {
    "execution": {
     "iopub.execute_input": "2024-01-03T17:16:01.309106Z",
     "iopub.status.busy": "2024-01-03T17:16:01.308610Z",
     "iopub.status.idle": "2024-01-03T17:16:01.335444Z",
     "shell.execute_reply": "2024-01-03T17:16:01.333356Z"
    },
    "papermill": {
     "duration": 0.038013,
     "end_time": "2024-01-03T17:16:01.339156",
     "exception": false,
     "start_time": "2024-01-03T17:16:01.301143",
     "status": "completed"
    },
    "tags": []
   },
   "outputs": [
    {
     "name": "stdout",
     "output_type": "stream",
     "text": [
      "Shape of X_train:  (17227,)\n",
      "Shape of X_test:  (4307,)\n"
     ]
    }
   ],
   "source": [
    "X_train, X_test, y_train, y_test = train_test_split(df.utterance, df.label_num, test_size = 0.2, random_state= 2022, stratify = df.label_num)\n",
    "print(\"Shape of X_train: \", X_train.shape)\n",
    "print(\"Shape of X_test: \", X_test.shape)"
   ]
  },
  {
   "cell_type": "code",
   "execution_count": 7,
   "id": "f2c0ef19",
   "metadata": {
    "execution": {
     "iopub.execute_input": "2024-01-03T17:16:01.352904Z",
     "iopub.status.busy": "2024-01-03T17:16:01.352439Z",
     "iopub.status.idle": "2024-01-03T17:16:02.512212Z",
     "shell.execute_reply": "2024-01-03T17:16:02.510668Z"
    },
    "papermill": {
     "duration": 1.170315,
     "end_time": "2024-01-03T17:16:02.515661",
     "exception": false,
     "start_time": "2024-01-03T17:16:01.345346",
     "status": "completed"
    },
    "tags": []
   },
   "outputs": [
    {
     "name": "stdout",
     "output_type": "stream",
     "text": [
      "              precision    recall  f1-score   support\n",
      "\n",
      "           0       0.00      0.00      0.00         7\n",
      "           1       0.91      0.78      0.84       185\n",
      "           2       0.00      0.00      0.00        22\n",
      "           3       0.00      0.00      0.00        72\n",
      "           4       0.85      0.69      0.76       203\n",
      "           5       0.00      0.00      0.00        54\n",
      "           6       0.00      0.00      0.00        96\n",
      "           7       1.00      0.86      0.92       149\n",
      "           8       0.80      1.00      0.89       411\n",
      "           9       1.00      1.00      1.00       205\n",
      "          10       0.80      1.00      0.89       424\n",
      "          11       1.00      0.89      0.94       183\n",
      "          12       0.00      0.00      0.00        72\n",
      "          13       0.00      0.00      0.00        28\n",
      "          14       0.00      0.00      0.00        27\n",
      "          15       0.53      1.00      0.70       286\n",
      "          16       0.70      0.98      0.81       230\n",
      "          17       0.00      0.00      0.00        47\n",
      "          18       0.98      0.99      0.98       873\n",
      "          19       0.00      0.00      0.00        14\n",
      "          20       1.00      0.98      0.99       197\n",
      "          21       0.00      0.00      0.00        26\n",
      "          22       0.00      0.00      0.00       116\n",
      "          23       0.00      0.00      0.00        19\n",
      "          24       0.00      0.00      0.00        55\n",
      "          25       0.48      1.00      0.65       245\n",
      "          26       0.00      0.00      0.00        61\n",
      "\n",
      "    accuracy                           0.80      4307\n",
      "   macro avg       0.37      0.41      0.38      4307\n",
      "weighted avg       0.70      0.80      0.73      4307\n",
      "\n"
     ]
    },
    {
     "name": "stderr",
     "output_type": "stream",
     "text": [
      "/opt/conda/lib/python3.10/site-packages/sklearn/linear_model/_logistic.py:458: ConvergenceWarning: lbfgs failed to converge (status=1):\n",
      "STOP: TOTAL NO. of ITERATIONS REACHED LIMIT.\n",
      "\n",
      "Increase the number of iterations (max_iter) or scale the data as shown in:\n",
      "    https://scikit-learn.org/stable/modules/preprocessing.html\n",
      "Please also refer to the documentation for alternative solver options:\n",
      "    https://scikit-learn.org/stable/modules/linear_model.html#logistic-regression\n",
      "  n_iter_i = _check_optimize_result(\n",
      "/opt/conda/lib/python3.10/site-packages/sklearn/metrics/_classification.py:1344: UndefinedMetricWarning: Precision and F-score are ill-defined and being set to 0.0 in labels with no predicted samples. Use `zero_division` parameter to control this behavior.\n",
      "  _warn_prf(average, modifier, msg_start, len(result))\n",
      "/opt/conda/lib/python3.10/site-packages/sklearn/metrics/_classification.py:1344: UndefinedMetricWarning: Precision and F-score are ill-defined and being set to 0.0 in labels with no predicted samples. Use `zero_division` parameter to control this behavior.\n",
      "  _warn_prf(average, modifier, msg_start, len(result))\n",
      "/opt/conda/lib/python3.10/site-packages/sklearn/metrics/_classification.py:1344: UndefinedMetricWarning: Precision and F-score are ill-defined and being set to 0.0 in labels with no predicted samples. Use `zero_division` parameter to control this behavior.\n",
      "  _warn_prf(average, modifier, msg_start, len(result))\n"
     ]
    }
   ],
   "source": [
    "clf_tfid = Pipeline([\n",
    "     ('vectorizer_tfidf',TfidfVectorizer()),    \n",
    "     ('LogisticRegress', LogisticRegression(C=1.0, penalty='l2', max_iter=5))         \n",
    "])\n",
    "clf_tfid.fit(X_train, y_train)\n",
    "\n",
    "\n",
    "y_pred = clf_tfid.predict(X_test)\n",
    "\n",
    "\n",
    "print(classification_report(y_test, y_pred))"
   ]
  },
  {
   "cell_type": "code",
   "execution_count": 8,
   "id": "2e3ea398",
   "metadata": {
    "execution": {
     "iopub.execute_input": "2024-01-03T17:16:02.529286Z",
     "iopub.status.busy": "2024-01-03T17:16:02.528839Z",
     "iopub.status.idle": "2024-01-03T17:16:03.455201Z",
     "shell.execute_reply": "2024-01-03T17:16:03.453649Z"
    },
    "papermill": {
     "duration": 0.936738,
     "end_time": "2024-01-03T17:16:03.458287",
     "exception": false,
     "start_time": "2024-01-03T17:16:02.521549",
     "status": "completed"
    },
    "tags": []
   },
   "outputs": [
    {
     "name": "stdout",
     "output_type": "stream",
     "text": [
      "              precision    recall  f1-score   support\n",
      "\n",
      "           0       0.00      0.00      0.00         7\n",
      "           1       0.80      0.98      0.88       185\n",
      "           2       0.00      0.00      0.00        22\n",
      "           3       1.00      0.74      0.85        72\n",
      "           4       0.84      0.98      0.91       203\n",
      "           5       0.00      0.00      0.00        54\n",
      "           6       1.00      0.96      0.98        96\n",
      "           7       1.00      0.99      0.99       149\n",
      "           8       0.94      1.00      0.97       411\n",
      "           9       0.95      0.99      0.97       205\n",
      "          10       0.86      1.00      0.92       424\n",
      "          11       0.86      1.00      0.92       183\n",
      "          12       0.92      0.97      0.95        72\n",
      "          13       0.00      0.00      0.00        28\n",
      "          14       0.00      0.00      0.00        27\n",
      "          15       0.91      1.00      0.95       286\n",
      "          16       0.94      0.97      0.96       230\n",
      "          17       0.00      0.00      0.00        47\n",
      "          18       0.92      0.99      0.96       873\n",
      "          19       0.00      0.00      0.00        14\n",
      "          20       1.00      0.99      0.99       197\n",
      "          21       0.00      0.00      0.00        26\n",
      "          22       0.95      0.91      0.93       116\n",
      "          23       0.00      0.00      0.00        19\n",
      "          24       1.00      0.02      0.04        55\n",
      "          25       0.73      0.95      0.83       245\n",
      "          26       1.00      0.13      0.23        61\n",
      "\n",
      "    accuracy                           0.90      4307\n",
      "   macro avg       0.62      0.58      0.56      4307\n",
      "weighted avg       0.86      0.90      0.86      4307\n",
      "\n"
     ]
    },
    {
     "name": "stderr",
     "output_type": "stream",
     "text": [
      "/opt/conda/lib/python3.10/site-packages/sklearn/linear_model/_logistic.py:458: ConvergenceWarning: lbfgs failed to converge (status=1):\n",
      "STOP: TOTAL NO. of ITERATIONS REACHED LIMIT.\n",
      "\n",
      "Increase the number of iterations (max_iter) or scale the data as shown in:\n",
      "    https://scikit-learn.org/stable/modules/preprocessing.html\n",
      "Please also refer to the documentation for alternative solver options:\n",
      "    https://scikit-learn.org/stable/modules/linear_model.html#logistic-regression\n",
      "  n_iter_i = _check_optimize_result(\n",
      "/opt/conda/lib/python3.10/site-packages/sklearn/metrics/_classification.py:1344: UndefinedMetricWarning: Precision and F-score are ill-defined and being set to 0.0 in labels with no predicted samples. Use `zero_division` parameter to control this behavior.\n",
      "  _warn_prf(average, modifier, msg_start, len(result))\n",
      "/opt/conda/lib/python3.10/site-packages/sklearn/metrics/_classification.py:1344: UndefinedMetricWarning: Precision and F-score are ill-defined and being set to 0.0 in labels with no predicted samples. Use `zero_division` parameter to control this behavior.\n",
      "  _warn_prf(average, modifier, msg_start, len(result))\n",
      "/opt/conda/lib/python3.10/site-packages/sklearn/metrics/_classification.py:1344: UndefinedMetricWarning: Precision and F-score are ill-defined and being set to 0.0 in labels with no predicted samples. Use `zero_division` parameter to control this behavior.\n",
      "  _warn_prf(average, modifier, msg_start, len(result))\n"
     ]
    }
   ],
   "source": [
    "from sklearn.feature_extraction.text import CountVectorizer\n",
    "\n",
    "\n",
    "clf_bow = Pipeline([\n",
    "     ('vectorizer_tfidf',CountVectorizer()),    \n",
    "     ('LogisticRegress', LogisticRegression(C=1.0, penalty='l2', max_iter=5))         \n",
    "])\n",
    "clf_bow.fit(X_train, y_train)\n",
    "\n",
    "\n",
    "y_pred = clf_bow.predict(X_test)\n",
    "\n",
    "\n",
    "print(classification_report(y_test, y_pred))"
   ]
  },
  {
   "cell_type": "code",
   "execution_count": null,
   "id": "fabef312",
   "metadata": {
    "papermill": {
     "duration": 0.005442,
     "end_time": "2024-01-03T17:16:03.470006",
     "exception": false,
     "start_time": "2024-01-03T17:16:03.464564",
     "status": "completed"
    },
    "tags": []
   },
   "outputs": [],
   "source": []
  }
 ],
 "metadata": {
  "kaggle": {
   "accelerator": "none",
   "dataSources": [
    {
     "datasetId": 1953751,
     "sourceId": 3314620,
     "sourceType": "datasetVersion"
    }
   ],
   "dockerImageVersionId": 30626,
   "isGpuEnabled": false,
   "isInternetEnabled": true,
   "language": "python",
   "sourceType": "notebook"
  },
  "kernelspec": {
   "display_name": "Python 3",
   "language": "python",
   "name": "python3"
  },
  "language_info": {
   "codemirror_mode": {
    "name": "ipython",
    "version": 3
   },
   "file_extension": ".py",
   "mimetype": "text/x-python",
   "name": "python",
   "nbconvert_exporter": "python",
   "pygments_lexer": "ipython3",
   "version": "3.10.12"
  },
  "papermill": {
   "default_parameters": {},
   "duration": 9.077959,
   "end_time": "2024-01-03T17:16:04.199591",
   "environment_variables": {},
   "exception": null,
   "input_path": "__notebook__.ipynb",
   "output_path": "__notebook__.ipynb",
   "parameters": {},
   "start_time": "2024-01-03T17:15:55.121632",
   "version": "2.4.0"
  }
 },
 "nbformat": 4,
 "nbformat_minor": 5
}
